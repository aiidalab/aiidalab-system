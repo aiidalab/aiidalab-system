{
 "cells": [
  {
   "cell_type": "code",
   "execution_count": 1,
   "metadata": {},
   "outputs": [
    {
     "name": "stdout",
     "output_type": "stream",
     "text": [
      "/home/sadorf/miniconda3/envs/nb-package/lib/python3.8/site-packages/my_app/start.md\n",
      "/home/sadorf/miniconda3/envs/nb-package/lib/python3.8/site-packages/my_app\n",
      "Click <a href=\"/home/sadorf/miniconda3/envs/nb-package/lib/python3.8/site-packages/my_app/app.ipynb\">here</a> to get to my app!\n",
      "\n"
     ]
    },
    {
     "data": {
      "application/vnd.jupyter.widget-view+json": {
       "model_id": "78589ef010424fc5b3ea1dbf53ca1a67",
       "version_major": 2,
       "version_minor": 0
      },
      "text/plain": [
       "HTML(value='Click <a href=\"/home/sadorf/miniconda3/envs/nb-package/lib/python3.8/site-packages/my_app/app.ipyn…"
      ]
     },
     "metadata": {},
     "output_type": "display_data"
    }
   ],
   "source": [
    "import os\n",
    "import ipywidgets as ipw\n",
    "import pkg_resources\n",
    "import my_app\n",
    "\n",
    "\n",
    "pkg_resources.set_extraction_path('app/')\n",
    "\n",
    "try:\n",
    "    start = my_app.start()\n",
    "except AttributeError:\n",
    "    print(pkg_resources.resource_filename(my_app.__name__, 'start.md'))\n",
    "    start = pkg_resources.resource_string(my_app.__name__, 'start.md')\n",
    "\n",
    "app_base = os.path.dirname(pkg_resources.resource_filename(my_app.__name__, 'start.md'))\n",
    "print(app_base)\n",
    "print(start.decode().format(app_base=app_base))\n",
    "\n",
    "display(ipw.HTML(start.decode().format(app_base=app_base)))\n",
    "\n",
    "pkg_resources.cleanup_resources()"
   ]
  },
  {
   "cell_type": "code",
   "execution_count": 2,
   "metadata": {},
   "outputs": [
    {
     "data": {
      "text/plain": [
       "'app/my_app-tmp'"
      ]
     },
     "execution_count": 2,
     "metadata": {},
     "output_type": "execute_result"
    }
   ],
   "source": [
    "pkg_resources.get_cache_path(my_app.__name__)"
   ]
  },
  {
   "cell_type": "code",
   "execution_count": 3,
   "metadata": {},
   "outputs": [
    {
     "name": "stdout",
     "output_type": "stream",
     "text": [
      "Help on method set_extraction_path in module pkg_resources:\n",
      "\n",
      "set_extraction_path(path) method of pkg_resources.ResourceManager instance\n",
      "    Set the base path where resources will be extracted to, if needed.\n",
      "    \n",
      "    If you do not call this routine before any extractions take place, the\n",
      "    path defaults to the return value of ``get_default_cache()``.  (Which\n",
      "    is based on the ``PYTHON_EGG_CACHE`` environment variable, with various\n",
      "    platform-specific fallbacks.  See that routine's documentation for more\n",
      "    details.)\n",
      "    \n",
      "    Resources are extracted to subdirectories of this path based upon\n",
      "    information given by the ``IResourceProvider``.  You may set this to a\n",
      "    temporary directory, but then you must call ``cleanup_resources()`` to\n",
      "    delete the extracted files when done.  There is no guarantee that\n",
      "    ``cleanup_resources()`` will be able to remove all extracted files.\n",
      "    \n",
      "    (Note: you may not change the extraction path for a given resource\n",
      "    manager once resources have been extracted, unless you first call\n",
      "    ``cleanup_resources()``.)\n",
      "\n"
     ]
    }
   ],
   "source": [
    "help(pkg_resources.set_extraction_path)"
   ]
  },
  {
   "cell_type": "code",
   "execution_count": 5,
   "metadata": {},
   "outputs": [],
   "source": [
    "provider = pkg_resources.get_provider('my_app')"
   ]
  },
  {
   "cell_type": "code",
   "execution_count": 7,
   "metadata": {},
   "outputs": [
    {
     "name": "stdout",
     "output_type": "stream",
     "text": [
      "Help on DefaultProvider in module pkg_resources object:\n",
      "\n",
      "class DefaultProvider(EggProvider)\n",
      " |  DefaultProvider(module)\n",
      " |  \n",
      " |  Provides access to package resources in the filesystem\n",
      " |  \n",
      " |  Method resolution order:\n",
      " |      DefaultProvider\n",
      " |      EggProvider\n",
      " |      NullProvider\n",
      " |      builtins.object\n",
      " |  \n",
      " |  Methods defined here:\n",
      " |  \n",
      " |  get_resource_stream(self, manager, resource_name)\n",
      " |  \n",
      " |  ----------------------------------------------------------------------\n",
      " |  Methods inherited from EggProvider:\n",
      " |  \n",
      " |  __init__(self, module)\n",
      " |      Initialize self.  See help(type(self)) for accurate signature.\n",
      " |  \n",
      " |  ----------------------------------------------------------------------\n",
      " |  Methods inherited from NullProvider:\n",
      " |  \n",
      " |  get_metadata(self, name)\n",
      " |  \n",
      " |  get_metadata_lines(self, name)\n",
      " |  \n",
      " |  get_resource_filename(self, manager, resource_name)\n",
      " |  \n",
      " |  get_resource_string(self, manager, resource_name)\n",
      " |  \n",
      " |  has_metadata(self, name)\n",
      " |  \n",
      " |  has_resource(self, resource_name)\n",
      " |  \n",
      " |  metadata_isdir(self, name)\n",
      " |  \n",
      " |  metadata_listdir(self, name)\n",
      " |  \n",
      " |  resource_isdir(self, resource_name)\n",
      " |  \n",
      " |  resource_listdir(self, resource_name)\n",
      " |  \n",
      " |  run_script(self, script_name, namespace)\n",
      " |  \n",
      " |  ----------------------------------------------------------------------\n",
      " |  Data descriptors inherited from NullProvider:\n",
      " |  \n",
      " |  __dict__\n",
      " |      dictionary for instance variables (if defined)\n",
      " |  \n",
      " |  __weakref__\n",
      " |      list of weak references to the object (if defined)\n",
      " |  \n",
      " |  ----------------------------------------------------------------------\n",
      " |  Data and other attributes inherited from NullProvider:\n",
      " |  \n",
      " |  egg_info = None\n",
      " |  \n",
      " |  egg_name = None\n",
      " |  \n",
      " |  loader = None\n",
      "\n"
     ]
    }
   ],
   "source": [
    "help(provider)"
   ]
  },
  {
   "cell_type": "code",
   "execution_count": 13,
   "metadata": {},
   "outputs": [
    {
     "data": {
      "text/plain": [
       "True"
      ]
     },
     "execution_count": 13,
     "metadata": {},
     "output_type": "execute_result"
    }
   ],
   "source": [
    "provider.has_resource('start.md')"
   ]
  },
  {
   "cell_type": "code",
   "execution_count": null,
   "metadata": {},
   "outputs": [],
   "source": []
  }
 ],
 "metadata": {
  "kernelspec": {
   "display_name": "Python 3",
   "language": "python",
   "name": "python3"
  },
  "language_info": {
   "codemirror_mode": {
    "name": "ipython",
    "version": 3
   },
   "file_extension": ".py",
   "mimetype": "text/x-python",
   "name": "python",
   "nbconvert_exporter": "python",
   "pygments_lexer": "ipython3",
   "version": "3.8.1"
  }
 },
 "nbformat": 4,
 "nbformat_minor": 4
}
